{
 "cells": [
  {
   "cell_type": "markdown",
   "metadata": {},
   "source": [
    "# Trabalho Final para aprovação do curso Sistemas Inteligentes"
   ]
  },
  {
   "cell_type": "markdown",
   "metadata": {},
   "source": [
    "#### Instruções: \n",
    "- Comentem bastante o código, deixe o mais claro possível\n",
    "- Usem e abusem do Markdown\n",
    "- Isso ae!"
   ]
  },
  {
   "cell_type": "markdown",
   "metadata": {},
   "source": [
    "# Pre-Processamento"
   ]
  },
  {
   "cell_type": "markdown",
   "metadata": {},
   "source": [
    "#### Importação de bibliotecas"
   ]
  },
  {
   "cell_type": "code",
   "execution_count": 15,
   "metadata": {},
   "outputs": [],
   "source": [
    "%matplotlib inline\n",
    "from sklearn.decomposition import PCA\n",
    "from sklearn.preprocessing import scale\n",
    "from sklearn.model_selection import train_test_split as tts\n",
    "from sklearn.metrics import *\n",
    "import numpy as np\n",
    "import matplotlib.pyplot as plt\n",
    "import sklearn as sk \n",
    "import pandas as pd\n",
    "from sklearn.model_selection import train_test_split as tts\n"
   ]
  },
  {
   "cell_type": "code",
   "execution_count": 16,
   "metadata": {},
   "outputs": [],
   "source": [
    "%config InlineBackend.figure_format = 'svg'\n",
    "\n",
    "params = {'figure.figsize': [5, 5],\n",
    "          'axes.labelsize': 16,\n",
    "          'axes.titlesize':18,\n",
    "          'font.size': 16,\n",
    "          'legend.fontsize': 10,\n",
    "          'xtick.labelsize': 12,\n",
    "          'ytick.labelsize': 12\n",
    "    }\n",
    "\n",
    "plt.rcParams.update(params)"
   ]
  },
  {
   "cell_type": "markdown",
   "metadata": {},
   "source": [
    "##### Carregando dataset"
   ]
  },
  {
   "cell_type": "code",
   "execution_count": 46,
   "metadata": {},
   "outputs": [],
   "source": [
    "#Dataset para treinamento\n",
    "db = pd.read_csv(\"bank-additional-dataset/bank-additional-full.csv\", sep= \";\");\n",
    "#Dataset para teste\n",
    "db_teste = pd.read_csv(\"bank-additional-dataset/bank-additional.csv\", sep = \";\");"
   ]
  },
  {
   "cell_type": "markdown",
   "metadata": {},
   "source": [
    "##### Informações sobre o dataset"
   ]
  },
  {
   "cell_type": "code",
   "execution_count": 47,
   "metadata": {},
   "outputs": [
    {
     "name": "stdout",
     "output_type": "stream",
     "text": [
      "Dimensões do dataset (41188, 21)\n",
      "Dimensões do dataset_teste (4119, 21)\n"
     ]
    }
   ],
   "source": [
    "print(\"Dimensões do dataset\", db.shape)\n",
    "print(\"Dimensões do dataset_teste\", db_treino.shape)"
   ]
  },
  {
   "cell_type": "code",
   "execution_count": 45,
   "metadata": {},
   "outputs": [
    {
     "name": "stdout",
     "output_type": "stream",
     "text": [
      "Features do dataset:  Index(['age', 'job', 'marital', 'education', 'default', 'housing', 'loan',\n",
      "       'contact', 'month', 'day_of_week', 'duration', 'campaign', 'pdays',\n",
      "       'previous', 'poutcome', 'emp.var.rate', 'cons.price.idx',\n",
      "       'cons.conf.idx', 'euribor3m', 'nr.employed', 'y'],\n",
      "      dtype='object')\n"
     ]
    }
   ],
   "source": [
    "print(\"Features do dataset: \", db.columns)"
   ]
  },
  {
   "cell_type": "markdown",
   "metadata": {},
   "source": [
    "### bank client data:\n",
    "    1 - age (numeric)\n",
    "    2 - job : type of job (categorical: 'admin.','blue-collar','entrepreneur','housemaid','management','retired','self-employed','services','student','technician','unemployed','unknown')\n",
    "    3 - marital : marital status (categorical: 'divorced','married','single','unknown'; note: 'divorced' means divorced or widowed)\n",
    "    4 - education (categorical: 'basic.4y','basic.6y','basic.9y','high.school','illiterate','professional.course','university.degree','unknown')\n",
    "    5 - default: has credit in default? (categorical: 'no','yes','unknown')\n",
    "    6 - housing: has housing loan? (categorical: 'no','yes','unknown')\n",
    "    7 - loan: has personal loan? (categorical: 'no','yes','unknown')\n",
    "### related with the last contact of the current campaign:\n",
    "    8 - contact: contact communication type (categorical: 'cellular','telephone') \n",
    "    9 - month: last contact month of year (categorical: 'jan', 'feb', 'mar', ..., 'nov', 'dec')\n",
    "    10 - day_of_week: last contact day of the week (categorical: 'mon','tue','wed','thu','fri')\n",
    "    11 - duration: last contact duration, in seconds (numeric). Important note: this attribute highly affects the output target (e.g., if duration=0 then y='no'). Yet, the duration is not known before a call is performed. Also, after the end of the call y is obviously known. Thus, this input should only be included for benchmark purposes and should be discarded if the intention is to have a realistic predictive model.\n",
    "### other attributes:\n",
    "    12 - campaign: number of contacts performed during this campaign and for this client (numeric, includes last contact)\n",
    "    13 - pdays: number of days that passed by after the client was last contacted from a previous campaign (numeric; 999 means client was not previously contacted)\n",
    "    14 - previous: number of contacts performed before this campaign and for this client (numeric)\n",
    "    15 - poutcome: outcome of the previous marketing campaign (categorical: 'failure','nonexistent','success')\n",
    "### social and economic context attributes\n",
    "    16 - emp.var.rate: employment variation rate - quarterly indicator (numeric)\n",
    "    17 - cons.price.idx: consumer price index - monthly indicator (numeric) \n",
    "    18 - cons.conf.idx: consumer confidence index - monthly indicator (numeric) \n",
    "    19 - euribor3m: euribor 3 month rate - daily indicator (numeric)\n",
    "    20 - nr.employed: number of employees - quarterly indicator (numeric)\n",
    "\n",
    "### Output variable (desired target):\n",
    "21 - y - has the client subscribed a term deposit? (binary: 'yes','no')"
   ]
  },
  {
   "cell_type": "markdown",
   "metadata": {},
   "source": [
    "##### Como podemos observar há 11 features categóricas, é um número significante e teremos que tratá-los num futuro próximo"
   ]
  },
  {
   "cell_type": "code",
   "execution_count": 50,
   "metadata": {
    "scrolled": false
   },
   "outputs": [
    {
     "data": {
      "text/plain": [
       "age                 int64\n",
       "job                object\n",
       "marital            object\n",
       "education          object\n",
       "default            object\n",
       "housing            object\n",
       "loan               object\n",
       "contact            object\n",
       "month              object\n",
       "day_of_week        object\n",
       "duration            int64\n",
       "campaign            int64\n",
       "pdays               int64\n",
       "previous            int64\n",
       "poutcome           object\n",
       "emp.var.rate      float64\n",
       "cons.price.idx    float64\n",
       "cons.conf.idx     float64\n",
       "euribor3m         float64\n",
       "nr.employed       float64\n",
       "y                  object\n",
       "dtype: object"
      ]
     },
     "execution_count": 50,
     "metadata": {},
     "output_type": "execute_result"
    }
   ],
   "source": [
    "#tipos de dados para cada feature\n",
    "db.dtypes"
   ]
  },
  {
   "cell_type": "code",
   "execution_count": 63,
   "metadata": {},
   "outputs": [
    {
     "name": "stdout",
     "output_type": "stream",
     "text": [
      "    age          job   marital            education  default housing loan  \\\n",
      "0    56    housemaid   married             basic.4y       no      no   no   \n",
      "1    57     services   married          high.school  unknown      no   no   \n",
      "2    37     services   married          high.school       no     yes   no   \n",
      "3    40       admin.   married             basic.6y       no      no   no   \n",
      "4    56     services   married          high.school       no      no  yes   \n",
      "5    45     services   married             basic.9y  unknown      no   no   \n",
      "6    59       admin.   married  professional.course       no      no   no   \n",
      "7    41  blue-collar   married              unknown  unknown      no   no   \n",
      "8    24   technician    single  professional.course       no     yes   no   \n",
      "9    25     services    single          high.school       no     yes   no   \n",
      "10   41  blue-collar   married              unknown  unknown      no   no   \n",
      "11   25     services    single          high.school       no     yes   no   \n",
      "12   29  blue-collar    single          high.school       no      no  yes   \n",
      "13   57    housemaid  divorced             basic.4y       no     yes   no   \n",
      "14   35  blue-collar   married             basic.6y       no     yes   no   \n",
      "15   54      retired   married             basic.9y  unknown     yes  yes   \n",
      "16   35  blue-collar   married             basic.6y       no     yes   no   \n",
      "17   46  blue-collar   married             basic.6y  unknown     yes  yes   \n",
      "18   50  blue-collar   married             basic.9y       no     yes  yes   \n",
      "19   39   management    single             basic.9y  unknown      no   no   \n",
      "\n",
      "      contact month day_of_week ...  campaign  pdays  previous     poutcome  \\\n",
      "0   telephone   may         mon ...         1  999.0       NaN  nonexistent   \n",
      "1   telephone   may         mon ...         1  999.0       NaN  nonexistent   \n",
      "2   telephone   may         mon ...         1  999.0       NaN  nonexistent   \n",
      "3   telephone   may         mon ...         1  999.0       NaN  nonexistent   \n",
      "4   telephone   may         mon ...         1  999.0       NaN  nonexistent   \n",
      "5   telephone   may         mon ...         1  999.0       NaN  nonexistent   \n",
      "6   telephone   may         mon ...         1  999.0       NaN  nonexistent   \n",
      "7   telephone   may         mon ...         1  999.0       NaN  nonexistent   \n",
      "8   telephone   may         mon ...         1  999.0       NaN  nonexistent   \n",
      "9   telephone   may         mon ...         1  999.0       NaN  nonexistent   \n",
      "10  telephone   may         mon ...         1  999.0       NaN  nonexistent   \n",
      "11  telephone   may         mon ...         1  999.0       NaN  nonexistent   \n",
      "12  telephone   may         mon ...         1  999.0       NaN  nonexistent   \n",
      "13  telephone   may         mon ...         1  999.0       NaN  nonexistent   \n",
      "14  telephone   may         mon ...         1  999.0       NaN  nonexistent   \n",
      "15  telephone   may         mon ...         1  999.0       NaN  nonexistent   \n",
      "16  telephone   may         mon ...         1  999.0       NaN  nonexistent   \n",
      "17  telephone   may         mon ...         1  999.0       NaN  nonexistent   \n",
      "18  telephone   may         mon ...         1  999.0       NaN  nonexistent   \n",
      "19  telephone   may         mon ...         1  999.0       NaN  nonexistent   \n",
      "\n",
      "   emp.var.rate  cons.price.idx  cons.conf.idx  euribor3m  nr.employed   y  \n",
      "0           1.1          93.994          -36.4      4.857       5191.0  no  \n",
      "1           1.1          93.994          -36.4      4.857       5191.0  no  \n",
      "2           1.1          93.994          -36.4      4.857       5191.0  no  \n",
      "3           1.1          93.994          -36.4      4.857       5191.0  no  \n",
      "4           1.1          93.994          -36.4      4.857       5191.0  no  \n",
      "5           1.1          93.994          -36.4      4.857       5191.0  no  \n",
      "6           1.1          93.994          -36.4      4.857       5191.0  no  \n",
      "7           1.1          93.994          -36.4      4.857       5191.0  no  \n",
      "8           1.1          93.994          -36.4      4.857       5191.0  no  \n",
      "9           1.1          93.994          -36.4      4.857       5191.0  no  \n",
      "10          1.1          93.994          -36.4      4.857       5191.0  no  \n",
      "11          1.1          93.994          -36.4      4.857       5191.0  no  \n",
      "12          1.1          93.994          -36.4      4.857       5191.0  no  \n",
      "13          1.1          93.994          -36.4      4.857       5191.0  no  \n",
      "14          1.1          93.994          -36.4      4.857       5191.0  no  \n",
      "15          1.1          93.994          -36.4      4.857       5191.0  no  \n",
      "16          1.1          93.994          -36.4      4.857       5191.0  no  \n",
      "17          1.1          93.994          -36.4      4.857       5191.0  no  \n",
      "18          1.1          93.994          -36.4      4.857       5191.0  no  \n",
      "19          1.1          93.994          -36.4      4.857       5191.0  no  \n",
      "\n",
      "[20 rows x 21 columns]\n"
     ]
    }
   ],
   "source": [
    "# print the first 20 rows of data\n",
    "print(db.head(20))"
   ]
  },
  {
   "cell_type": "code",
   "execution_count": null,
   "metadata": {},
   "outputs": [],
   "source": []
  },
  {
   "cell_type": "code",
   "execution_count": null,
   "metadata": {},
   "outputs": [],
   "source": []
  },
  {
   "cell_type": "code",
   "execution_count": null,
   "metadata": {},
   "outputs": [],
   "source": []
  },
  {
   "cell_type": "markdown",
   "metadata": {},
   "source": [
    "# Validação dos dados "
   ]
  },
  {
   "cell_type": "code",
   "execution_count": null,
   "metadata": {},
   "outputs": [],
   "source": []
  },
  {
   "cell_type": "markdown",
   "metadata": {},
   "source": [
    "# Treinamento do modelo"
   ]
  },
  {
   "cell_type": "code",
   "execution_count": null,
   "metadata": {},
   "outputs": [],
   "source": []
  },
  {
   "cell_type": "code",
   "execution_count": null,
   "metadata": {},
   "outputs": [],
   "source": []
  },
  {
   "cell_type": "code",
   "execution_count": null,
   "metadata": {},
   "outputs": [],
   "source": []
  },
  {
   "cell_type": "markdown",
   "metadata": {},
   "source": [
    "# Resultados e Metricas "
   ]
  },
  {
   "cell_type": "code",
   "execution_count": null,
   "metadata": {},
   "outputs": [],
   "source": []
  },
  {
   "cell_type": "code",
   "execution_count": null,
   "metadata": {},
   "outputs": [],
   "source": []
  },
  {
   "cell_type": "markdown",
   "metadata": {},
   "source": [
    "# Discussões"
   ]
  },
  {
   "cell_type": "code",
   "execution_count": null,
   "metadata": {},
   "outputs": [],
   "source": []
  }
 ],
 "metadata": {
  "kernelspec": {
   "display_name": "Python 3",
   "language": "python",
   "name": "python3"
  },
  "language_info": {
   "codemirror_mode": {
    "name": "ipython",
    "version": 3
   },
   "file_extension": ".py",
   "mimetype": "text/x-python",
   "name": "python",
   "nbconvert_exporter": "python",
   "pygments_lexer": "ipython3",
   "version": "3.6.5"
  }
 },
 "nbformat": 4,
 "nbformat_minor": 2
}
